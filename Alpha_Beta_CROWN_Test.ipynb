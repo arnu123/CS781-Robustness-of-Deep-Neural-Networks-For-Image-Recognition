{
 "cells": [
  {
   "cell_type": "markdown",
   "metadata": {
    "id": "Uu6MUQmRUR_i"
   },
   "source": [
    "Robustness of Deep Neural Networks (Spatially Correlated Input Perturbation)"
   ]
  },
  {
   "cell_type": "code",
   "execution_count": null,
   "metadata": {
    "colab": {
     "base_uri": "https://localhost:8080/"
    },
    "id": "Hl6Kr7sI9p0m",
    "outputId": "11313410-3d8b-466e-a250-53997147ea75"
   },
   "outputs": [],
   "source": [
    "!git clone https://github.com/arnu123/CS781-Robustness-of-Deep-Neural-Networks-For-Image-Recognition.git"
   ]
  },
  {
   "cell_type": "code",
   "execution_count": null,
   "metadata": {},
   "outputs": [],
   "source": [
    "cd CS781-Robustness-of-Deep-Neural-Networks-For-Image-Recognition"
   ]
  },
  {
   "cell_type": "code",
   "execution_count": null,
   "metadata": {
    "colab": {
     "base_uri": "https://localhost:8080/"
    },
    "collapsed": true,
    "id": "ACP-IRNQ-QPu",
    "outputId": "0ec4d126-b93f-47a4-81c5-cb991e95e802"
   },
   "outputs": [],
   "source": [
    "%pip install -r requirements.txt"
   ]
  },
  {
   "cell_type": "code",
   "execution_count": null,
   "metadata": {
    "colab": {
     "base_uri": "https://localhost:8080/"
    },
    "collapsed": true,
    "id": "gax6Gou8X4fv",
    "outputId": "5f8d4ab9-6914-4feb-df35-c9264af244ad"
   },
   "outputs": [],
   "source": [
    "import sys\n",
    "import os\n",
    "\n",
    "# 1. Display the current Python version\n",
    "print(f\"Python version: {sys.version}\")\n",
    "\n",
    "# 3. Determine the Python version for path construction\n",
    "python_version = f\"{sys.version_info.major}.{sys.version_info.minor}\"\n",
    "\n",
    "# 4. Define and list the dist-packages directory\n",
    "dist_packages_path = f\"/usr/local/lib/python{python_version}/dist-packages\"\n",
    "\n",
    "if os.path.exists(dist_packages_path):\n",
    "    sys.path.append(dist_packages_path)\n",
    "    print(f\"\\nAppended {dist_packages_path} to sys.path\")\n",
    "else:\n",
    "    print(f\"\\nPath {dist_packages_path} does not exist. Cannot append to sys.path.\")\n"
   ]
  },
  {
   "cell_type": "markdown",
   "metadata": {
    "id": "oQJWL04XK0Fx"
   },
   "source": [
    "Go to the running folder"
   ]
  },
  {
   "cell_type": "code",
   "execution_count": null,
   "metadata": {
    "colab": {
     "base_uri": "https://localhost:8080/"
    },
    "id": "Y0toepwVIFTG",
    "outputId": "ebc2aa17-0893-4924-9282-b9db783bd8f9"
   },
   "outputs": [],
   "source": [
    "%cd auto_LiRPA/"
   ]
  },
  {
   "cell_type": "code",
   "execution_count": null,
   "metadata": {
    "colab": {
     "base_uri": "https://localhost:8080/"
    },
    "collapsed": true,
    "id": "fXF1KypuMnHo",
    "outputId": "844c8f99-e9f5-436e-e631-5258b6e627a0"
   },
   "outputs": [],
   "source": [
    "%pip install ."
   ]
  },
  {
   "cell_type": "code",
   "execution_count": null,
   "metadata": {
    "colab": {
     "base_uri": "https://localhost:8080/"
    },
    "id": "kQGwhr6KSOjr",
    "outputId": "bb059f4b-1a50-4bfa-b922-361d9fc497e1"
   },
   "outputs": [],
   "source": [
    "%cd ../complete_verifier"
   ]
  },
  {
   "cell_type": "code",
   "execution_count": null,
   "metadata": {
    "colab": {
     "base_uri": "https://localhost:8080/"
    },
    "id": "KWu5eJZ1S3zG",
    "outputId": "176b1a94-bb8e-4cd6-8138-91419b67e7ee"
   },
   "outputs": [],
   "source": [
    "%%python __init__.py"
   ]
  },
  {
   "cell_type": "markdown",
   "metadata": {
    "id": "Liga3Ee5hG8_"
   },
   "source": [
    "Example Case"
   ]
  },
  {
   "cell_type": "code",
   "execution_count": null,
   "metadata": {
    "colab": {
     "base_uri": "https://localhost:8080/"
    },
    "id": "hFvQf1RChBMJ",
    "outputId": "2e2f07d4-daa4-4edd-c9d7-cf7d94447310"
   },
   "outputs": [],
   "source": [
    "!python abcrown.py --config exp_configs/tutorial_examples/cifar_resnet_2b.yaml --start 1 --end 4"
   ]
  },
  {
   "cell_type": "code",
   "execution_count": null,
   "metadata": {
    "id": "te7aJj8cjIfl"
   },
   "outputs": [],
   "source": []
  }
 ],
 "metadata": {
  "accelerator": "GPU",
  "colab": {
   "gpuType": "T4",
   "provenance": []
  },
  "kernelspec": {
   "display_name": "Python 3",
   "name": "python3"
  },
  "language_info": {
   "codemirror_mode": {
    "name": "ipython",
    "version": 3
   },
   "file_extension": ".py",
   "mimetype": "text/x-python",
   "name": "python",
   "nbconvert_exporter": "python",
   "pygments_lexer": "ipython3",
   "version": "3.11.7"
  }
 },
 "nbformat": 4,
 "nbformat_minor": 0
}
